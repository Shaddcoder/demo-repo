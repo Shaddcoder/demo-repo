{
 "cells": [
  {
   "cell_type": "markdown",
   "id": "c766d349",
   "metadata": {},
   "source": [
    "# Powershell Command"
   ]
  },
  {
   "cell_type": "code",
   "execution_count": 2,
   "id": "6c2e0ae6",
   "metadata": {},
   "outputs": [],
   "source": [
    "# current dicrectory: pwd\n",
    "# list of files: ls\n",
    "# list of files with details: ls -l\n",
    "# move to file directory: cd <directory_name>\n",
    "# movo \"up\" one level in the directory tree: cd ..\n",
    "# return to home directory: cd ~\n",
    "# move (rename) a file: mv <old_name> <new_name>\n",
    "# move a file to another directory: mv <file_name> <directory_name>\n",
    "# copy a file: cp <file_name> <new_file_name>\n",
    "# create a new directory: mkdir <directory_name>\n",
    "# delete a file: rm <file_name> , rm -r <directory_name> (for directories)\n",
    "# view hideden files: ls -a\n",
    "# view file content: cat <file_name>\n",
    "# create the file: New-Item .env, same : echo \"\" > .env \n",
    "# edit the file: notepad .env\n",
    "# see its content : cat .env"
   ]
  }
 ],
 "metadata": {
  "kernelspec": {
   "display_name": "Python 3",
   "language": "python",
   "name": "python3"
  },
  "language_info": {
   "codemirror_mode": {
    "name": "ipython",
    "version": 3
   },
   "file_extension": ".py",
   "mimetype": "text/x-python",
   "name": "python",
   "nbconvert_exporter": "python",
   "pygments_lexer": "ipython3",
   "version": "3.11.9"
  }
 },
 "nbformat": 4,
 "nbformat_minor": 5
}
